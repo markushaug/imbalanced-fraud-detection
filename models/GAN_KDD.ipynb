{
 "cells": [
  {
   "cell_type": "markdown",
   "metadata": {},
   "source": [
    "https://keras.io/examples/generative/conditional_gan/ was used as a reference for the implementation of the conditional GAN."
   ]
  },
  {
   "cell_type": "code",
   "execution_count": 1,
   "metadata": {},
   "outputs": [],
   "source": [
    "# load libraries\n",
    "import pickle\n",
    "\n",
    "# imoprt data science libraries\n",
    "import pandas as pd\n",
    "from pandas import DataFrame as df\n",
    "import matplotlib.pyplot as plt\n",
    "import numpy as np\n",
    "import seaborn as sns\n",
    "\n",
    "# Import ML libraries\n",
    "from sklearn.preprocessing import MinMaxScaler\n",
    "from sklearn.model_selection import GridSearchCV\n",
    "from sklearn.metrics import confusion_matrix\n",
    "\n",
    "import keras\n",
    "import tensorflow as tf\n",
    "\n",
    "from keras import layers\n",
    "from keras.layers import Input, Dense, Dropout, LeakyReLU, ReLU, BatchNormalization, Activation\n",
    "from keras.models import Sequential\n",
    "\n",
    "# local module with helper utils\n",
    "import model_utils as mutils\n",
    "from model_utils.utils import (\n",
    "    imb_ratio,\n",
    "    get_device,\n",
    "    plot_cm,\n",
    ")\n",
    "from model_utils.evaluation import get_metrics, evaluate_model"
   ]
  },
  {
   "cell_type": "code",
   "execution_count": 43,
   "metadata": {},
   "outputs": [
    {
     "name": "stdout",
     "output_type": "stream",
     "text": [
      "Data loaded successfully\n",
      "Imbalance ratio in training data: 4.13\n",
      "Imbalance ratio in validation data: 4.13\n",
      "Imbalance ratio in test data: 4.13\n",
      "\n",
      "Number of samples in training data: 248823\n",
      "Number of samples in validation data: 31103\n",
      "Number of samples in test data: 31103\n",
      "\n",
      "X_train.shape:  (200349, 121) \n",
      "data_dim:  121 \n",
      "latent_dim:  121\n"
     ]
    }
   ],
   "source": [
    "current_k_fold = 8\n",
    "SEED = current_k_fold**3\n",
    "np.random.seed(SEED)\n",
    "\n",
    "# pandas options\n",
    "pd.set_option(\"display.max_columns\", None)\n",
    "pd.set_option(\"display.max_rows\", None)\n",
    "\n",
    "# deserialize pre-processed data\n",
    "path_to_pickle = f\"../data/kddcup/kdd_preprocessed_k{current_k_fold}.pkl\"\n",
    "\n",
    "with open(path_to_pickle, \"rb\") as f:\n",
    "    data = pickle.load(f)\n",
    "    X_train = data[\"X_train\"]\n",
    "    y_train = data[\"y_train\"]\n",
    "\n",
    "    X_val = data[\"X_val\"]\n",
    "    y_val = data[\"y_val\"]\n",
    "\n",
    "    X_test = data[\"X_test\"]\n",
    "    y_test = data[\"y_test\"]\n",
    "\n",
    "    col_names = data[\"col_names\"]\n",
    "\n",
    "print(\"Data loaded successfully\")\n",
    "\n",
    "# get imbalance ratio for each data set\n",
    "IR_train = imb_ratio(y_train.value_counts())\n",
    "IR_val = imb_ratio(y_val.value_counts())\n",
    "IR_test = imb_ratio(y_test.value_counts())\n",
    "\n",
    "# print imbalance ratios. They should be (nearly) the same. pct = 0.172 such as in the paper!\n",
    "print(f\"Imbalance ratio in training data: {IR_train}\")\n",
    "print(f\"Imbalance ratio in validation data: {IR_val}\")\n",
    "print(f\"Imbalance ratio in test data: {IR_test}\")\n",
    "\n",
    "# print number of samples in each data set\n",
    "print(f\"\\nNumber of samples in training data: {len(y_train)}\")\n",
    "print(f\"Number of samples in validation data: {len(y_val)}\")\n",
    "print(f\"Number of samples in test data: {len(y_test)}\")\n",
    "\n",
    "## GAN specific pre-processing: Only use negative samples for training\n",
    "\n",
    "X_train = X_train[y_train == 0].copy()\n",
    "neg_y_train = y_train[y_train == 0].copy() # TODO: check if this is necessary\n",
    "\n",
    "X_val = X_val[y_val == 0].copy()\n",
    "neg_y_val = y_val[y_val == 0].copy()\n",
    "\n",
    "data_dim = X_train.shape[1] # cols\n",
    "latent_dim = 121\n",
    "\n",
    "print(\n",
    "\t\"\\nX_train.shape: \" , X_train.shape,\n",
    " \t\"\\ndata_dim: \", data_dim,\n",
    " \t\"\\nlatent_dim: \", latent_dim\n",
    ")"
   ]
  },
  {
   "cell_type": "markdown",
   "metadata": {},
   "source": [
    "## Generator"
   ]
  },
  {
   "cell_type": "code",
   "execution_count": 7,
   "metadata": {},
   "outputs": [],
   "source": [
    "# create generator model\n",
    "def get_generator(latent_dim, data_dim):\n",
    "    g = Sequential(name=\"generator\")\n",
    "\n",
    "    g.add(\n",
    "        layers.Input(shape=(latent_dim,), name=\"input\")\n",
    "    )  # input layer to receive noise from latent space\n",
    "    g.add(Dense(64))\n",
    "    g.add(BatchNormalization(momentum=0.8))\n",
    "    g.add(LeakyReLU(negative_slope=0.2))\n",
    "    g.add(layers.Dropout(0.5))\n",
    "\n",
    "    # Hidden layer 1: Upscale to a larger feature set\n",
    "    g.add(Dense(256))\n",
    "    g.add(BatchNormalization(momentum=0.8))\n",
    "    g.add(LeakyReLU(negative_slope=0.2))\n",
    "    g.add(layers.Dropout(0.5))\n",
    "\n",
    "    # Hidden layer 2: Continue upscaling\n",
    "    g.add(Dense(512))\n",
    "    g.add(BatchNormalization(momentum=0.8))\n",
    "    g.add(LeakyReLU(negative_slope=0.2))\n",
    "    g.add(layers.Dropout(0.5))\n",
    "\n",
    "    g.add(Dense(data_dim, activation=\"tanh\"))  # data_dim == cols\n",
    "\n",
    "    return g"
   ]
  },
  {
   "cell_type": "markdown",
   "metadata": {},
   "source": [
    "## Discriminator"
   ]
  },
  {
   "cell_type": "code",
   "execution_count": 8,
   "metadata": {},
   "outputs": [],
   "source": [
    "# create discriminator model\n",
    "def get_discriminator(data_dim):\n",
    "    d = Sequential(name=\"discriminator\")\n",
    "\n",
    "    # Input layer\n",
    "    d.add(layers.Input(shape=(data_dim,)))\n",
    "    d.add(layers.Dense(128, kernel_initializer=\"he_uniform\"))\n",
    "    d.add(LeakyReLU(negative_slope=0.2))\n",
    "\n",
    "    # Hidden layer 1\n",
    "    d.add(layers.Dense(256, kernel_initializer=\"he_uniform\"))\n",
    "    d.add(layers.LeakyReLU(negative_slope=0.2))\n",
    "\n",
    "    # Hidden layer 2\n",
    "    d.add(layers.Dense(512, kernel_initializer=\"he_uniform\"))\n",
    "    d.add(layers.LeakyReLU(negative_slope=0.2))\n",
    "\n",
    "    # Output layer: single probability score\n",
    "    d.add(layers.Dense(1, activation=\"sigmoid\"))\n",
    "\n",
    "    # Output layer: single probability score\n",
    "    d.add(layers.Dense(1, activation=\"sigmoid\"))\n",
    "\n",
    "    return d"
   ]
  },
  {
   "cell_type": "markdown",
   "metadata": {},
   "source": [
    "## Build GAN network"
   ]
  },
  {
   "cell_type": "code",
   "execution_count": 15,
   "metadata": {},
   "outputs": [],
   "source": [
    "class GAN(keras.Model):\n",
    "    def __init__(self, discriminator, generator, latent_dim):\n",
    "        super().__init__()\n",
    "        self.discriminator = discriminator\n",
    "        self.generator = generator\n",
    "        self.latent_dim = latent_dim\n",
    "        self.d_loss_tracker = keras.metrics.Mean(name=\"d_loss\")\n",
    "        self.g_loss_tracker = keras.metrics.Mean(name=\"g_loss\")\n",
    "        self.seed_generator = keras.random.SeedGenerator(SEED)\n",
    "\n",
    "    @property\n",
    "    def metrics(self):\n",
    "        return [self.d_loss_tracker, self.g_loss_tracker]\n",
    "\n",
    "    def compile(self, d_optimizer, g_optimizer, loss_fn):\n",
    "        super().compile()\n",
    "        self.d_optimizer = d_optimizer\n",
    "        self.g_optimizer = g_optimizer\n",
    "        self.loss_fn = loss_fn\n",
    "\n",
    "    def train_step(self, data):\n",
    "        real_samples = data\n",
    "\n",
    "        # Create random noise\n",
    "        batch_size = tf.shape(real_samples)[0]  # Dynamically compute the batch size\n",
    "        noise = tf.random.normal(shape=(batch_size, self.latent_dim))\n",
    "\n",
    "        # Generate fake samples\n",
    "        fake_samples = self.generator(noise, training=True)\n",
    "\n",
    "        # Combine fake and real samples and labels\n",
    "        combined_samples = tf.concat([fake_samples, real_samples], axis=0)\n",
    "       \n",
    "        fake_labels = tf.zeros((batch_size, 1))\n",
    "        real_labels = tf.ones((batch_size, 1))\n",
    "        labels = tf.concat([fake_labels, real_labels], axis=0)\n",
    "       \n",
    "        \n",
    "        # Add random noise to the labels - important trick!\n",
    "        # labels += 0.05 * keras.random.uniform(\n",
    "        #     tf.shape(labels), seed=self.seed_generator\n",
    "        # )      \n",
    "        \n",
    "        # Train the discriminator\n",
    "        with tf.GradientTape() as tape:\n",
    "            predictions = self.discriminator(combined_samples, training=True)\n",
    "            d_loss = self.loss_fn(labels, predictions)\n",
    "        grads = tape.gradient(d_loss, self.discriminator.trainable_variables)\n",
    "        # grads = [tf.clip_by_value(grad, -1.0, 1.0) for grad in grads]\n",
    "        self.d_optimizer.apply_gradients(zip(grads, self.discriminator.trainable_variables))\n",
    "\n",
    "        \n",
    "        # Train the generator\n",
    "        noise = tf.random.normal(shape=(batch_size, self.latent_dim))\n",
    "        misleading_labels = tf.ones((batch_size, 1)) # Flip labels: real = fake\n",
    "        with tf.GradientTape() as tape:\n",
    "            predictions = self.discriminator(self.generator(noise, training=True), training=False)\n",
    "            g_loss = self.loss_fn(misleading_labels, predictions)\n",
    "        grads = tape.gradient(g_loss, self.generator.trainable_variables)\n",
    "        self.g_optimizer.apply_gradients(zip(grads, self.generator.trainable_variables))\n",
    "        \n",
    "        self.d_loss_tracker.update_state(d_loss)\n",
    "        self.g_loss_tracker.update_state(g_loss)\n",
    "\n",
    "        return {\n",
    "            \"d_loss\": self.d_loss_tracker.result(),\n",
    "            \"g_loss\": self.g_loss_tracker.result()\n",
    "        }\n",
    "    \n",
    "    def test_step(self, data):\n",
    "        # Unpack the data\n",
    "        real_samples, real_labels = data\n",
    "        batch_size = tf.shape(real_samples)[0]\n",
    "\n",
    "        # Generate noise\n",
    "        noise = tf.random.normal(shape=(batch_size, self.latent_dim))\n",
    "        \n",
    "        # Generate fake samples using the generator\n",
    "        fake_samples = self.generator(noise, training=False)\n",
    "        \n",
    "        # Labels for fake samples\n",
    "        fake_labels = tf.zeros((batch_size, 1))\n",
    "        \n",
    "        # Evaluate discriminator on real samples\n",
    "        real_predictions = self.discriminator(real_samples, training=False)\n",
    "        d_loss_real = self.loss_fn(real_labels, real_predictions)\n",
    "        \n",
    "        # Evaluate discriminator on fake samples\n",
    "        fake_predictions = self.discriminator(fake_samples, training=False)\n",
    "        d_loss_fake = self.loss_fn(fake_labels, fake_predictions)\n",
    "\n",
    "        # Overall discriminator loss on test data\n",
    "        d_loss = 0.5 * (d_loss_real + d_loss_fake)\n",
    "        \n",
    "        # Update the loss trackers\n",
    "        self.d_loss_tracker.update_state(d_loss)\n",
    "    \n",
    "        \n",
    "        return {\n",
    "            \"d_loss\": self.d_loss_tracker.result(),\n",
    "        }\n",
    "    "
   ]
  },
  {
   "cell_type": "markdown",
   "metadata": {},
   "source": [
    "let's test drive it"
   ]
  },
  {
   "cell_type": "code",
   "execution_count": 44,
   "metadata": {},
   "outputs": [
    {
     "name": "stdout",
     "output_type": "stream",
     "text": [
      "Epoch 1/10\n",
      "\u001b[1m6261/6261\u001b[0m \u001b[32m━━━━━━━━━━━━━━━━━━━━\u001b[0m\u001b[37m\u001b[0m \u001b[1m47s\u001b[0m 7ms/step - d_loss: 0.5086 - g_loss: 0.7659 - val_d_loss: 1.0232\n",
      "Epoch 2/10\n",
      "\u001b[1m6261/6261\u001b[0m \u001b[32m━━━━━━━━━━━━━━━━━━━━\u001b[0m\u001b[37m\u001b[0m \u001b[1m45s\u001b[0m 7ms/step - d_loss: 0.3809 - g_loss: 1.0841 - val_d_loss: 0.9070\n",
      "Epoch 3/10\n",
      "\u001b[1m6261/6261\u001b[0m \u001b[32m━━━━━━━━━━━━━━━━━━━━\u001b[0m\u001b[37m\u001b[0m \u001b[1m46s\u001b[0m 7ms/step - d_loss: 0.2932 - g_loss: 1.3616 - val_d_loss: 0.9358\n",
      "Epoch 4/10\n",
      "\u001b[1m6261/6261\u001b[0m \u001b[32m━━━━━━━━━━━━━━━━━━━━\u001b[0m\u001b[37m\u001b[0m \u001b[1m47s\u001b[0m 7ms/step - d_loss: 0.2261 - g_loss: 1.5959 - val_d_loss: 1.0158\n",
      "Epoch 5/10\n",
      "\u001b[1m6261/6261\u001b[0m \u001b[32m━━━━━━━━━━━━━━━━━━━━\u001b[0m\u001b[37m\u001b[0m \u001b[1m48s\u001b[0m 8ms/step - d_loss: 0.1739 - g_loss: 1.8343 - val_d_loss: 1.1195\n",
      "Epoch 6/10\n",
      "\u001b[1m6261/6261\u001b[0m \u001b[32m━━━━━━━━━━━━━━━━━━━━\u001b[0m\u001b[37m\u001b[0m \u001b[1m47s\u001b[0m 7ms/step - d_loss: 0.1336 - g_loss: 2.0814 - val_d_loss: 1.2725\n",
      "Epoch 7/10\n",
      "\u001b[1m6261/6261\u001b[0m \u001b[32m━━━━━━━━━━━━━━━━━━━━\u001b[0m\u001b[37m\u001b[0m \u001b[1m47s\u001b[0m 8ms/step - d_loss: 0.1029 - g_loss: 2.3335 - val_d_loss: 1.3696\n",
      "Epoch 8/10\n",
      "\u001b[1m6261/6261\u001b[0m \u001b[32m━━━━━━━━━━━━━━━━━━━━\u001b[0m\u001b[37m\u001b[0m \u001b[1m65s\u001b[0m 10ms/step - d_loss: 0.0796 - g_loss: 2.5880 - val_d_loss: 1.5427\n",
      "Epoch 9/10\n",
      "\u001b[1m6261/6261\u001b[0m \u001b[32m━━━━━━━━━━━━━━━━━━━━\u001b[0m\u001b[37m\u001b[0m \u001b[1m58s\u001b[0m 9ms/step - d_loss: 0.0623 - g_loss: 2.8414 - val_d_loss: 1.7242\n",
      "Epoch 10/10\n",
      "\u001b[1m6261/6261\u001b[0m \u001b[32m━━━━━━━━━━━━━━━━━━━━\u001b[0m\u001b[37m\u001b[0m \u001b[1m52s\u001b[0m 8ms/step - d_loss: 0.0495 - g_loss: 3.0911 - val_d_loss: 1.8155\n"
     ]
    }
   ],
   "source": [
    "# create dataset\n",
    "dataset = tf.data.Dataset.from_tensor_slices(X_train.astype(np.float32)) # takes 6 min, so we save it\n",
    "dataset.save(\"../data/kddcup/gan_dataset_tensor_slices\")\n",
    "\n",
    "# load dataset\n",
    "dataset = tf.data.Dataset.load(\"../data/kddcup/gan_dataset_tensor_slices\")\n",
    "\n",
    "# or load after saving. Slicing took 6 min\n",
    "# dataset = tf.data.Dataset.load(f\"../data/kddcup/vae_dataset_tensor_slices_k{current_k_fold}\")\n",
    "\n",
    "# hyperparams\n",
    "epochs = 10\n",
    "latent_dim = 121\n",
    "batch_size = 32\n",
    "\n",
    "batches = dataset.shuffle(buffer_size=1024).batch(batch_size)  # Batch the dataset\n",
    "\n",
    "# build and fit GAN\n",
    "discriminator = get_discriminator(data_dim)\n",
    "generator = get_generator(latent_dim=latent_dim, data_dim=data_dim)\n",
    "\n",
    "# early stopping\n",
    "early_stopping_d = keras.callbacks.EarlyStopping(\n",
    "    monitor=\"d_loss\", mode=\"min\", patience=4, restore_best_weights=True, #baseline=0.2\n",
    ")\n",
    "\n",
    "cb_ckp_save = keras.callbacks.ModelCheckpoint(f\"./ckp/GAN_KDD/k_{current_k_fold}\" + \"epoch_{epoch}.keras\")\n",
    "\n",
    "\n",
    "gan = GAN(discriminator=discriminator, generator=generator, latent_dim=latent_dim)\n",
    "\n",
    "gan.compile(\n",
    "    d_optimizer = keras.optimizers.Adam(learning_rate=0.0001, beta_1=0.5),\n",
    "    g_optimizer = keras.optimizers.Adam(learning_rate=0.0001, beta_1=0.5, clipvalue=1.0),\n",
    "    loss_fn=keras.losses.BinaryCrossentropy(from_logits=False),\n",
    ")\n",
    "\n",
    "# let's train it\n",
    "hist = gan.fit(\n",
    "    batches,\n",
    "    epochs=epochs,\n",
    "    callbacks=[early_stopping_d, cb_ckp_save],\n",
    "    validation_data=(X_val, neg_y_val),\n",
    ")\n",
    "# do not forget to save gan and d, g\n",
    "\n",
    "# load gan_cc.keras\n",
    "# discriminator = gan.discriminator\n",
    "# discriminator = keras.models.load_model('./saved_models/GAN/gan_discriminator_kdd_1.keras')"
   ]
  },
  {
   "cell_type": "code",
   "execution_count": null,
   "metadata": {},
   "outputs": [],
   "source": [
    "# getting best epoch \n",
    "metric_history = hist.history[\"val_d_loss\"]\n",
    "best_epoch = metric_history.index(min(metric_history)) + 1\n",
    "print(\"Best epoch: \", best_epoch, \"Best Value: \", min(metric_history))\n",
    "\n",
    "# best_epoch=42\n",
    "gan.load_weights(f\"./ckp/GAN_KDD/k_{current_k_fold}epoch_{best_epoch}.keras\")\n",
    "\n",
    "# Continuous scores from the discriminator\n",
    "anomalous_scores = discriminator.predict(X_test[y_test == 1], verbose=0)\n",
    "normal_scores = discriminator.predict(X_test[y_test == 0], verbose=0)\n",
    "\n",
    "# True labels\n",
    "y_true = np.concatenate([np.ones_like(anomalous_scores), np.zeros_like(normal_scores)])\n",
    "scores = np.concatenate([anomalous_scores, normal_scores])\n",
    "\n",
    "best_metric = 0.\n",
    "best_th = 0.\n",
    "\n",
    "for threshold in np.arange(0.1, 1, 0.001):\n",
    "    current_metric = get_metrics(y_true, scores.flatten(), op=\"<\", threshold=threshold)[\"AUCPRC\"]\n",
    "    if current_metric > best_metric:\n",
    "        best_metric = current_metric\n",
    "        best_th = threshold\n",
    "\n",
    "print(\"Best Metric Score:\", best_metric)\n",
    "print(\"Best Threshold: \", best_th)\n",
    "\n",
    "print(f\"metrics for k-fold {current_k_fold}:\")\n",
    "get_metrics(y_true, scores.flatten(), op=\"<\", threshold=best_th)"
   ]
  },
  {
   "cell_type": "code",
   "execution_count": 29,
   "metadata": {},
   "outputs": [],
   "source": [
    "# # # save model\n",
    "# gan.save('./saved_models/GAN/gan_kdd_1.keras')\n",
    "# discriminator.save('./saved_models/GAN/gan_discriminator_kdd_1.keras')\n",
    "# generator.save('./saved_models/GAN/gan_generator_kdd_1.keras')"
   ]
  },
  {
   "cell_type": "code",
   "execution_count": 74,
   "metadata": {},
   "outputs": [
    {
     "name": "stdout",
     "output_type": "stream",
     "text": [
      "Mean score anomalous data:  0.59455806\n",
      "Mean score normal data:  0.60799533\n"
     ]
    }
   ],
   "source": [
    "# gan.load_weights(f'./ckp/GAN_KDD/epoch_{8}.keras')\n",
    "\n",
    "print(\"Mean score anomalous data: \", gan.discriminator.predict(X_test[y_test == 1], verbose=0).mean())\n",
    "print(\"Mean score normal data: \", gan.discriminator.predict(X_test[y_test == 0], verbose=0).mean())"
   ]
  },
  {
   "cell_type": "code",
   "execution_count": 61,
   "metadata": {},
   "outputs": [
    {
     "name": "stdout",
     "output_type": "stream",
     "text": [
      "\u001b[1m190/190\u001b[0m \u001b[32m━━━━━━━━━━━━━━━━━━━━\u001b[0m\u001b[37m\u001b[0m \u001b[1m0s\u001b[0m 653us/step\n",
      "\u001b[1m783/783\u001b[0m \u001b[32m━━━━━━━━━━━━━━━━━━━━\u001b[0m\u001b[37m\u001b[0m \u001b[1m1s\u001b[0m 657us/step\n"
     ]
    },
    {
     "data": {
      "text/plain": [
       "<Axes: title={'center': 'Normal'}, ylabel='Frequency'>"
      ]
     },
     "execution_count": 61,
     "metadata": {},
     "output_type": "execute_result"
    },
    {
     "data": {
      "image/png": "[encoded data removed]",
      "text/plain": [
       "<Figure size 640x480 with 1 Axes>"
      ]
     },
     "metadata": {},
     "output_type": "display_data"
    },
    {
     "data": {
      "image/png": "[encoded data removed]",
      "text/plain": [
       "<Figure size 640x480 with 1 Axes>"
      ]
     },
     "metadata": {},
     "output_type": "display_data"
    }
   ],
   "source": [
    "anomalies = X_test[y_test == 1]\n",
    "normals = X_test[y_test == 0]\n",
    "\n",
    "pred_anomalies = pd.DataFrame(discriminator.predict(anomalies))\n",
    "pred_normals = pd.DataFrame(discriminator.predict(normals))\n",
    "\n",
    "pred_anomalies.plot(kind='hist', bins=10, title='Anomaly')\n",
    "pred_normals.plot(kind='hist', bins=10, title='Normal')\n",
    "# pred_anomalies.plot(kind='box', title='Anomaly')\n",
    "# pred_normals.plot(kind='box', title='Normal')\n",
    "\n",
    "# pred_anomalies = pred_anomalies.map(lambda x: 1 if x < 0.5 else 0)\n",
    "# pred_normals = pred_normals.map(lambda x: 0 if x > 0.5 else 1)\n"
   ]
  },
  {
   "cell_type": "code",
   "execution_count": 72,
   "metadata": {},
   "outputs": [],
   "source": [
    "# Continuous scores from the discriminator\n",
    "anomalous_scores = discriminator.predict(X_test[y_test == 1], verbose=0)\n",
    "normal_scores = discriminator.predict(X_test[y_test == 0], verbose=0)\n",
    "\n",
    "# True labels\n",
    "y_true = np.concatenate([np.ones_like(anomalous_scores), np.zeros_like(normal_scores)])\n",
    "scores = np.concatenate([anomalous_scores, normal_scores])"
   ]
  },
  {
   "cell_type": "code",
   "execution_count": null,
   "metadata": {},
   "outputs": [],
   "source": [
    "best_metric = 0.\n",
    "best_th = 0.\n",
    "\n",
    "for threshold in np.arange(0.1, 1, 0.001):\n",
    "    current_metric = get_metrics(y_true, scores, op=\"<\", threshold=threshold)[\"AUCPRC\"]\n",
    "    if current_metric > best_metric:\n",
    "        best_metric = current_metric\n",
    "        best_th = threshold\n",
    "\n",
    "print(\"Best Metric Score:\", best_metric) # best: 0.8770000000000007\n",
    "print(\"Best Threshold: \", best_th)"
   ]
  },
  {
   "cell_type": "code",
   "execution_count": null,
   "metadata": {},
   "outputs": [],
   "source": [
    "get_metrics(y_true, scores, op=\"<\", threshold=0.8770000000000007)"
   ]
  },
  {
   "cell_type": "code",
   "execution_count": null,
   "metadata": {},
   "outputs": [],
   "source": [
    "# save the gan model weights\n",
    "# gan.save_weights('./saved_models/GAN/gan_kdd_1.weights.h5')\n",
    "# print('Model saved.')\n",
    "\n",
    "# code to restore \n",
    "# build and fit GAN\n",
    "# discriminator2 = get_discriminator(data_dim)\n",
    "# generator2 = get_generator(latent_dim=latent_dim, data_dim=data_dim)\n",
    "\n",
    "# gan2 = GAN(discriminator=discriminator2, generator=generator2, latent_dim=latent_dim)\n",
    "\n",
    "# gan2.compile(\n",
    "#     d_optimizer = keras.optimizers.Adam(learning_rate=0.0001, beta_1=0.5),\n",
    "#     g_optimizer = keras.optimizers.Adam(learning_rate=0.0001, beta_1=0.5, clipvalue=1.0),\n",
    "#     loss_fn=keras.losses.BinaryCrossentropy(from_logits=False),\n",
    "# )\n",
    "\n",
    "# gan2.load_weights('./saved_models/GAN/gan_kdd_1.weights.h5')\n"
   ]
  }
 ],
 "metadata": {
  "kernelspec": {
   "display_name": "ml",
   "language": "python",
   "name": "python3"
  },
  "language_info": {
   "codemirror_mode": {
    "name": "ipython",
    "version": 3
   },
   "file_extension": ".py",
   "mimetype": "text/x-python",
   "name": "python",
   "nbconvert_exporter": "python",
   "pygments_lexer": "ipython3",
   "version": "3.11.9"
  }
 },
 "nbformat": 4,
 "nbformat_minor": 2
}
