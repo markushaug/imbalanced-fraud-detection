{
 "cells": [
  {
   "cell_type": "markdown",
   "metadata": {},
   "source": [
    "# Perform hypothesis test at 95% Interval"
   ]
  },
  {
   "cell_type": "markdown",
   "metadata": {},
   "source": [
    "## KDDCUP99 XGB vs MLP"
   ]
  },
  {
   "cell_type": "code",
   "execution_count": 42,
   "metadata": {},
   "outputs": [
    {
     "name": "stdout",
     "output_type": "stream",
     "text": [
      "t-test:\n",
      "Reject the null hypothesis: There is a significant difference between the models. p = 8.081915570690456e-15, alpha = 0.05, t_stat = 23.06951871198654\n",
      "\n",
      "mannwhitneyu:\n",
      "Reject the null hypothesis: There is a significant difference between the models (p = 0.00016780051625813792, u_stat = 100.00, n = 10))\n"
     ]
    }
   ],
   "source": [
    "import numpy as np\n",
    "from scipy.stats import ttest_ind,  mannwhitneyu\n",
    "alpha = 0.05\n",
    "\n",
    "# normal = rs_tuned 1\n",
    "kdd_xgb_aucprc = np.array([0.9942, 0.9946, 0.9947, 0.9951,  0.9946, 0.9940,  0.9951,  0.9946, 0.9951, 0.9946])\n",
    "\n",
    "# ros\n",
    "kdd_mlp_aucprc = np.array([0.9841, 0.9864, 0.9866, 0.9873, 0.9851, 0.9855,  0.9868, 0.9866,0.9854,  0.9839])\n",
    "\n",
    "print(\"t-test:\")\n",
    "t_stat, p_value = ttest_ind(kdd_xgb_aucprc, kdd_mlp_aucprc)\n",
    "if p_value < alpha:\n",
    "\tprint(f\"Reject the null hypothesis: There is a significant difference between the models. p = {p_value}, alpha = {alpha}, t_stat = {t_stat}\")\n",
    "else:\n",
    "    print(f\"There is no significant difference between the models. p = {p_value}, alpha = {alpha},t_stat = {t_stat:.2f}\")\n",
    "\n",
    "print(\"\\nmannwhitneyu:\")\n",
    "\n",
    "# Perform Mann-Whitney U test\n",
    "u_stat, p_value_mannwhitney = mannwhitneyu(kdd_xgb_aucprc, kdd_mlp_aucprc, alternative='two-sided')\n",
    "if p_value_mannwhitney < alpha:\n",
    "    print(f\"Reject the null hypothesis: There is a significant difference between the models (p = {p_value_mannwhitney}, u_stat = {u_stat:.2f}, n = {len(kdd_mlp_aucprc)}))\")\n",
    "else:\n",
    "    print(f\"There is no significant difference between the models (p = {p_value_mannwhitney}, u_stat = {u_stat}, n = {len(kdd_mlp_aucprc)})\")"
   ]
  },
  {
   "cell_type": "markdown",
   "metadata": {},
   "source": [
    "## Credit Card XGB vs MLP"
   ]
  },
  {
   "cell_type": "code",
   "execution_count": 43,
   "metadata": {},
   "outputs": [
    {
     "name": "stdout",
     "output_type": "stream",
     "text": [
      "t-test:\n",
      "There is no significant difference between the models (p = 0.25, alpha = 0.05, t_stat = 1.19, n = 10)\n",
      "\n",
      "mannwhitneyu:\n",
      "There is no significant difference between the models (p = 0.21229383619233166, u_stat = 67.0, alpha = 0.05, n = 10)\n"
     ]
    }
   ],
   "source": [
    "import numpy as np\n",
    "from scipy.stats import ttest_ind, mannwhitneyu\n",
    "\n",
    "alpha = 0.05\n",
    "\n",
    "# normal = rs_tuned 1\n",
    "cc_xgb_aucprc = np.array(\n",
    "    [0.809, 0.797, 0.8706, 0.836, 0.8944, 0.8203, 0.9429, 0.9163, 0.775, 0.9342]\n",
    ")\n",
    "\n",
    "# ros\n",
    "cc_mlp_aucprc = np.array(\n",
    "    [0.7958, 0.808, 0.829, 0.7729, 0.8489, 0.7772, 0.9161, 0.8855, 0.7484, 0.8998]\n",
    ")\n",
    "print(\"t-test:\")\n",
    "t_stat, p_value = ttest_ind(cc_xgb_aucprc, cc_mlp_aucprc)\n",
    "if p_value < alpha:\n",
    "    print(f\"Reject the null hypothesis: There is a significant difference between the models (p = {p_value:.2f}, alpha = {alpha}, t_stat = {t_stat:.2f}, n = {len(cc_mlp_aucprc)}))\")\n",
    "else:\n",
    "    print(f\"There is no significant difference between the models (p = {p_value:.2f}, alpha = {alpha}, t_stat = {t_stat:.2f}, n = {len(cc_mlp_aucprc)})\")\n",
    "\n",
    "print(\"\\nmannwhitneyu:\")\n",
    "\n",
    "# Perform Mann-Whitney U test\n",
    "u_stat, p_value_mannwhitney = mannwhitneyu(cc_xgb_aucprc, cc_mlp_aucprc, alternative='two-sided')\n",
    "if p_value_mannwhitney < alpha:\n",
    "    print(f\"Reject the null hypothesis: There is a significant difference between the models (p = {p_value_mannwhitney:.2f}, u_stat = {u_stat:.2f}, alpha = {alpha}, n = {len(cc_mlp_aucprc)}))\")\n",
    "else:\n",
    "    print(f\"There is no significant difference between the models (p = {p_value_mannwhitney}, u_stat = {u_stat}, alpha = {alpha}, n = {len(cc_mlp_aucprc)})\")"
   ]
  }
 ],
 "metadata": {
  "kernelspec": {
   "display_name": "ml",
   "language": "python",
   "name": "python3"
  },
  "language_info": {
   "codemirror_mode": {
    "name": "ipython",
    "version": 3
   },
   "file_extension": ".py",
   "mimetype": "text/x-python",
   "name": "python",
   "nbconvert_exporter": "python",
   "pygments_lexer": "ipython3",
   "version": "3.11.9"
  }
 },
 "nbformat": 4,
 "nbformat_minor": 2
}
