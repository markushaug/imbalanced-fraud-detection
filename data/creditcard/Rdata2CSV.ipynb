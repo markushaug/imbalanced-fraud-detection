{
 "cells": [
  {
   "cell_type": "code",
   "execution_count": 4,
   "metadata": {
    "vscode": {
     "languageId": "r"
    }
   },
   "outputs": [
    {
     "data": {
      "text/html": [
       "'creditcard'"
      ],
      "text/latex": [
       "'creditcard'"
      ],
      "text/markdown": [
       "'creditcard'"
      ],
      "text/plain": [
       "[1] \"creditcard\""
      ]
     },
     "metadata": {},
     "output_type": "display_data"
    }
   ],
   "source": [
    "# the following R code will output the creditcard data as a csv file, so that it can be used in python\n",
    "\n",
    "load(\"creditcard.RData\")\n",
    "ls() #returns a list of all the objects you just loaded (and anything else in your environment)\n",
    "write.csv(creditcard,\n",
    "  file=\"creditcard.csv\")"
   ]
  }
 ],
 "metadata": {
  "kernelspec": {
   "display_name": "R",
   "language": "R",
   "name": "ir"
  },
  "language_info": {
   "codemirror_mode": "r",
   "file_extension": ".r",
   "mimetype": "text/x-r-source",
   "name": "R",
   "pygments_lexer": "r",
   "version": "4.3.2"
  }
 },
 "nbformat": 4,
 "nbformat_minor": 2
}
